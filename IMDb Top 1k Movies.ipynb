{
 "cells": [
  {
   "cell_type": "markdown",
   "id": "5c9ae49b",
   "metadata": {},
   "source": [
    "# Analysis of IMDb Top 1,000 Movies"
   ]
  },
  {
   "cell_type": "code",
   "execution_count": 2,
   "id": "2e2d12fa",
   "metadata": {},
   "outputs": [],
   "source": [
    "import pandas as pd\n",
    "import matplotlib.pyplot as plt\n",
    "import numpy as np"
   ]
  },
  {
   "cell_type": "markdown",
   "id": "e70a96ef",
   "metadata": {},
   "source": [
    "##### Data Source: https://www.kaggle.com/datasets/ramjasmaurya/top-250s-in-imdb"
   ]
  },
  {
   "cell_type": "code",
   "execution_count": 93,
   "id": "702c45db",
   "metadata": {},
   "outputs": [
    {
     "data": {
      "text/html": [
       "<div>\n",
       "<style scoped>\n",
       "    .dataframe tbody tr th:only-of-type {\n",
       "        vertical-align: middle;\n",
       "    }\n",
       "\n",
       "    .dataframe tbody tr th {\n",
       "        vertical-align: top;\n",
       "    }\n",
       "\n",
       "    .dataframe thead th {\n",
       "        text-align: right;\n",
       "    }\n",
       "</style>\n",
       "<table border=\"1\" class=\"dataframe\">\n",
       "  <thead>\n",
       "    <tr style=\"text-align: right;\">\n",
       "      <th></th>\n",
       "      <th>movie name\\r\\n</th>\n",
       "      <th>Year</th>\n",
       "      <th>certificate</th>\n",
       "      <th>runtime</th>\n",
       "      <th>genre</th>\n",
       "      <th>RATING</th>\n",
       "      <th>metascore</th>\n",
       "      <th>DETAIL ABOUT MOVIE\\n</th>\n",
       "      <th>DIRECTOR\\r\\n</th>\n",
       "      <th>ACTOR 1\\n</th>\n",
       "      <th>ACTOR 2\\n</th>\n",
       "      <th>ACTOR 3</th>\n",
       "      <th>ACTOR 4</th>\n",
       "      <th>votes</th>\n",
       "      <th>GROSS COLLECTION\\r\\n</th>\n",
       "    </tr>\n",
       "    <tr>\n",
       "      <th>ranking of movie</th>\n",
       "      <th></th>\n",
       "      <th></th>\n",
       "      <th></th>\n",
       "      <th></th>\n",
       "      <th></th>\n",
       "      <th></th>\n",
       "      <th></th>\n",
       "      <th></th>\n",
       "      <th></th>\n",
       "      <th></th>\n",
       "      <th></th>\n",
       "      <th></th>\n",
       "      <th></th>\n",
       "      <th></th>\n",
       "      <th></th>\n",
       "    </tr>\n",
       "  </thead>\n",
       "  <tbody>\n",
       "    <tr>\n",
       "      <th>1</th>\n",
       "      <td>The Shawshank Redemption</td>\n",
       "      <td>-1994</td>\n",
       "      <td>15</td>\n",
       "      <td>142 min</td>\n",
       "      <td>Drama</td>\n",
       "      <td>9.3</td>\n",
       "      <td>81.0</td>\n",
       "      <td>Two imprisoned men bond over a number of years...</td>\n",
       "      <td>Frank Darabont</td>\n",
       "      <td>Tim Robbins</td>\n",
       "      <td>Morgan Freeman</td>\n",
       "      <td>Bob Gunton</td>\n",
       "      <td>William Sadler</td>\n",
       "      <td>2,603,314</td>\n",
       "      <td>$28.34M</td>\n",
       "    </tr>\n",
       "  </tbody>\n",
       "</table>\n",
       "</div>"
      ],
      "text/plain": [
       "                                movie name\\r\\n   Year certificate  runtime  \\\n",
       "ranking of movie\\r\\n                                                         \n",
       "1                     The Shawshank Redemption  -1994          15  142 min   \n",
       "\n",
       "                      genre  RATING  metascore  \\\n",
       "ranking of movie\\r\\n                             \n",
       "1                     Drama     9.3       81.0   \n",
       "\n",
       "                                                   DETAIL ABOUT MOVIE\\n  \\\n",
       "ranking of movie\\r\\n                                                      \n",
       "1                     Two imprisoned men bond over a number of years...   \n",
       "\n",
       "                        DIRECTOR\\r\\n    ACTOR 1\\n       ACTOR 2\\n     ACTOR 3  \\\n",
       "ranking of movie\\r\\n                                                            \n",
       "1                     Frank Darabont  Tim Robbins  Morgan Freeman  Bob Gunton   \n",
       "\n",
       "                             ACTOR 4      votes GROSS COLLECTION\\r\\n  \n",
       "ranking of movie\\r\\n                                                  \n",
       "1                     William Sadler  2,603,314              $28.34M  "
      ]
     },
     "execution_count": 93,
     "metadata": {},
     "output_type": "execute_result"
    }
   ],
   "source": [
    "df = pd.read_csv('imdb (1000 movies) in june 2022.csv', index_col=0)\n",
    "df.head(1)"
   ]
  },
  {
   "cell_type": "code",
   "execution_count": 94,
   "id": "68021c71",
   "metadata": {},
   "outputs": [
    {
     "data": {
      "text/html": [
       "<div>\n",
       "<style scoped>\n",
       "    .dataframe tbody tr th:only-of-type {\n",
       "        vertical-align: middle;\n",
       "    }\n",
       "\n",
       "    .dataframe tbody tr th {\n",
       "        vertical-align: top;\n",
       "    }\n",
       "\n",
       "    .dataframe thead th {\n",
       "        text-align: right;\n",
       "    }\n",
       "</style>\n",
       "<table border=\"1\" class=\"dataframe\">\n",
       "  <thead>\n",
       "    <tr style=\"text-align: right;\">\n",
       "      <th></th>\n",
       "      <th>name</th>\n",
       "      <th>year</th>\n",
       "      <th>certificate</th>\n",
       "      <th>runtime</th>\n",
       "      <th>genre</th>\n",
       "      <th>rating</th>\n",
       "      <th>metascore</th>\n",
       "      <th>details</th>\n",
       "      <th>director</th>\n",
       "      <th>actor 1</th>\n",
       "      <th>actor 2</th>\n",
       "      <th>actor 3</th>\n",
       "      <th>actor 4</th>\n",
       "      <th>votes</th>\n",
       "      <th>gross</th>\n",
       "    </tr>\n",
       "    <tr>\n",
       "      <th>IMDb ranking</th>\n",
       "      <th></th>\n",
       "      <th></th>\n",
       "      <th></th>\n",
       "      <th></th>\n",
       "      <th></th>\n",
       "      <th></th>\n",
       "      <th></th>\n",
       "      <th></th>\n",
       "      <th></th>\n",
       "      <th></th>\n",
       "      <th></th>\n",
       "      <th></th>\n",
       "      <th></th>\n",
       "      <th></th>\n",
       "      <th></th>\n",
       "    </tr>\n",
       "  </thead>\n",
       "  <tbody>\n",
       "    <tr>\n",
       "      <th>1</th>\n",
       "      <td>The Shawshank Redemption</td>\n",
       "      <td>1994</td>\n",
       "      <td>15</td>\n",
       "      <td>142</td>\n",
       "      <td>Drama</td>\n",
       "      <td>9.3</td>\n",
       "      <td>81.0</td>\n",
       "      <td>Two imprisoned men bond over a number of years...</td>\n",
       "      <td>Frank Darabont</td>\n",
       "      <td>Tim Robbins</td>\n",
       "      <td>Morgan Freeman</td>\n",
       "      <td>Bob Gunton</td>\n",
       "      <td>William Sadler</td>\n",
       "      <td>2603314</td>\n",
       "      <td>28.34</td>\n",
       "    </tr>\n",
       "  </tbody>\n",
       "</table>\n",
       "</div>"
      ],
      "text/plain": [
       "                                  name  year certificate  runtime  genre  \\\n",
       "IMDb ranking                                                               \n",
       "1             The Shawshank Redemption  1994          15      142  Drama   \n",
       "\n",
       "              rating  metascore  \\\n",
       "IMDb ranking                      \n",
       "1                9.3       81.0   \n",
       "\n",
       "                                                        details  \\\n",
       "IMDb ranking                                                      \n",
       "1             Two imprisoned men bond over a number of years...   \n",
       "\n",
       "                    director      actor 1         actor 2     actor 3  \\\n",
       "IMDb ranking                                                            \n",
       "1             Frank Darabont  Tim Robbins  Morgan Freeman  Bob Gunton   \n",
       "\n",
       "                     actor 4    votes  gross  \n",
       "IMDb ranking                                  \n",
       "1             William Sadler  2603314  28.34  "
      ]
     },
     "execution_count": 94,
     "metadata": {},
     "output_type": "execute_result"
    }
   ],
   "source": [
    "#remove dashes from Year\n",
    "df.Year = df.Year.str[1:]\n",
    "#remove 'min' from runtime column\n",
    "df.runtime = df.runtime.str[:-4]\n",
    "#convert runtime column to int\n",
    "df.runtime = df.runtime.astype(int)\n",
    "#fix column names\n",
    "df.columns.values[[0,7,8,9,10,-1]] = ['name','details','director','actor 1','actor 2','gross']\n",
    "df.columns = df.columns.str.lower()\n",
    "df.index.name = 'IMDb ranking'\n",
    "#convert year column to string\n",
    "df['year'] = df['year'].astype('string')\n",
    "#remove parentheses from year column\n",
    "rowstofix = df[df.year.str.endswith(\")\")].index.values\n",
    "for a in rowstofix:\n",
    "    df.year[int(a)-1] = df.year[int(a)-1][-5:-1]\n",
    "#convert year column to int\n",
    "df['year'] = df['year'].astype('int')\n",
    "#remove commas from votes column\n",
    "df['votes'] = df['votes'].str.replace(\",\",\"\")\n",
    "#convert votes column to int\n",
    "df['votes'] = df['votes'].astype('int')\n",
    "#remove $ and M from gross column\n",
    "df['gross'] = df.gross.str[1:-1]\n",
    "#convert gross column to float\n",
    "df['gross'] = df['gross'].astype('float')\n",
    "df.head(1)"
   ]
  },
  {
   "cell_type": "code",
   "execution_count": 142,
   "id": "3c6199df",
   "metadata": {},
   "outputs": [],
   "source": [
    "#183 movies in our list have no gross data, so we will fill them in using data from IMDb affiliate site BoxOfficeMojo\n",
    "#df[np.isnan(df['gross'])]\n",
    "#df[df['gross']==0.0]"
   ]
  },
  {
   "cell_type": "code",
   "execution_count": 59,
   "id": "b0b08067",
   "metadata": {},
   "outputs": [
    {
     "data": {
      "image/png": "[encoded data removed]",
      "text/plain": [
       "<Figure size 432x288 with 1 Axes>"
      ]
     },
     "metadata": {
      "needs_background": "light"
     },
     "output_type": "display_data"
    }
   ],
   "source": [
    "top_5_actors = df['actor 1'].value_counts().head(5)\n",
    "top_5_actors.plot(kind=\"barh\")\n",
    "plt.title(\"5 Most Common Lead Actors\", pad=15, weight='bold', size=16)\n",
    "plt.xlabel(\"Number of Movies in IMDb Top 1k\")\n",
    "plt.show()"
   ]
  },
  {
   "cell_type": "code",
   "execution_count": 6,
   "id": "244d0d00",
   "metadata": {},
   "outputs": [
    {
     "data": {
      "image/png": "[encoded data removed]",
      "text/plain": [
       "<Figure size 432x288 with 1 Axes>"
      ]
     },
     "metadata": {
      "needs_background": "light"
     },
     "output_type": "display_data"
    }
   ],
   "source": [
    "top_5_directors = df['director'].value_counts().head(5)\n",
    "top_5_directors.plot(kind=\"barh\")\n",
    "plt.title(\"5 Most Common Directors\", pad=15, weight='bold', size=16)\n",
    "plt.xlabel(\"Number of Movies in IMDb Top 1k\")\n",
    "plt.show()"
   ]
  },
  {
   "cell_type": "markdown",
   "id": "af51d484",
   "metadata": {},
   "source": [
    "### Top 5 Highest Domestic Earnings"
   ]
  },
  {
   "cell_type": "code",
   "execution_count": 7,
   "id": "bd56f452",
   "metadata": {},
   "outputs": [
    {
     "data": {
      "text/html": [
       "<div>\n",
       "<style scoped>\n",
       "    .dataframe tbody tr th:only-of-type {\n",
       "        vertical-align: middle;\n",
       "    }\n",
       "\n",
       "    .dataframe tbody tr th {\n",
       "        vertical-align: top;\n",
       "    }\n",
       "\n",
       "    .dataframe thead th {\n",
       "        text-align: right;\n",
       "    }\n",
       "</style>\n",
       "<table border=\"1\" class=\"dataframe\">\n",
       "  <thead>\n",
       "    <tr style=\"text-align: right;\">\n",
       "      <th></th>\n",
       "      <th>name</th>\n",
       "      <th>rating</th>\n",
       "      <th>gross</th>\n",
       "    </tr>\n",
       "    <tr>\n",
       "      <th>IMDb ranking</th>\n",
       "      <th></th>\n",
       "      <th></th>\n",
       "      <th></th>\n",
       "    </tr>\n",
       "  </thead>\n",
       "  <tbody>\n",
       "    <tr>\n",
       "      <th>610</th>\n",
       "      <td>Star Wars: Episode VII - The Force Awakens</td>\n",
       "      <td>7.8</td>\n",
       "      <td>936.66</td>\n",
       "    </tr>\n",
       "    <tr>\n",
       "      <th>66</th>\n",
       "      <td>Avengers: Endgame</td>\n",
       "      <td>8.4</td>\n",
       "      <td>858.37</td>\n",
       "    </tr>\n",
       "    <tr>\n",
       "      <th>100</th>\n",
       "      <td>Spider-Man: No Way Home</td>\n",
       "      <td>8.3</td>\n",
       "      <td>804.75</td>\n",
       "    </tr>\n",
       "    <tr>\n",
       "      <th>644</th>\n",
       "      <td>Avatar</td>\n",
       "      <td>7.8</td>\n",
       "      <td>760.51</td>\n",
       "    </tr>\n",
       "    <tr>\n",
       "      <th>67</th>\n",
       "      <td>Avengers: Infinity War</td>\n",
       "      <td>8.4</td>\n",
       "      <td>678.82</td>\n",
       "    </tr>\n",
       "  </tbody>\n",
       "</table>\n",
       "</div>"
      ],
      "text/plain": [
       "                                                    name  rating   gross\n",
       "IMDb ranking                                                            \n",
       "610           Star Wars: Episode VII - The Force Awakens     7.8  936.66\n",
       "66                                     Avengers: Endgame     8.4  858.37\n",
       "100                              Spider-Man: No Way Home     8.3  804.75\n",
       "644                                               Avatar     7.8  760.51\n",
       "67                                Avengers: Infinity War     8.4  678.82"
      ]
     },
     "execution_count": 7,
     "metadata": {},
     "output_type": "execute_result"
    }
   ],
   "source": [
    "df[[\"name\",\"rating\",\"gross\"]].sort_values(by='gross', ascending=False).head(5)"
   ]
  },
  {
   "cell_type": "markdown",
   "id": "3dafa0d9",
   "metadata": {},
   "source": [
    "#### It is worth noting that there are 183 movies in the list without any gross earnings data."
   ]
  },
  {
   "cell_type": "markdown",
   "id": "ab4ddc98",
   "metadata": {},
   "source": [
    "### Lowest rated movie"
   ]
  },
  {
   "cell_type": "code",
   "execution_count": 116,
   "id": "0b36cbc1",
   "metadata": {},
   "outputs": [
    {
     "data": {
      "text/html": [
       "<div>\n",
       "<style scoped>\n",
       "    .dataframe tbody tr th:only-of-type {\n",
       "        vertical-align: middle;\n",
       "    }\n",
       "\n",
       "    .dataframe tbody tr th {\n",
       "        vertical-align: top;\n",
       "    }\n",
       "\n",
       "    .dataframe thead th {\n",
       "        text-align: right;\n",
       "    }\n",
       "</style>\n",
       "<table border=\"1\" class=\"dataframe\">\n",
       "  <thead>\n",
       "    <tr style=\"text-align: right;\">\n",
       "      <th></th>\n",
       "      <th>name</th>\n",
       "      <th>year</th>\n",
       "      <th>certificate</th>\n",
       "      <th>runtime</th>\n",
       "      <th>genre</th>\n",
       "      <th>rating</th>\n",
       "      <th>metascore</th>\n",
       "      <th>details</th>\n",
       "      <th>director</th>\n",
       "      <th>actor 1</th>\n",
       "      <th>actor 2</th>\n",
       "      <th>actor 3</th>\n",
       "      <th>actor 4</th>\n",
       "      <th>votes</th>\n",
       "      <th>gross</th>\n",
       "    </tr>\n",
       "    <tr>\n",
       "      <th>IMDb ranking</th>\n",
       "      <th></th>\n",
       "      <th></th>\n",
       "      <th></th>\n",
       "      <th></th>\n",
       "      <th></th>\n",
       "      <th></th>\n",
       "      <th></th>\n",
       "      <th></th>\n",
       "      <th></th>\n",
       "      <th></th>\n",
       "      <th></th>\n",
       "      <th></th>\n",
       "      <th></th>\n",
       "      <th></th>\n",
       "      <th></th>\n",
       "    </tr>\n",
       "  </thead>\n",
       "  <tbody>\n",
       "    <tr>\n",
       "      <th>1,000.00</th>\n",
       "      <td>The Invisible Man</td>\n",
       "      <td>1933</td>\n",
       "      <td>A</td>\n",
       "      <td>71</td>\n",
       "      <td>Horror, Sci-Fi</td>\n",
       "      <td>7.6</td>\n",
       "      <td>87.0</td>\n",
       "      <td>A scientist finds a way of becoming invisible,...</td>\n",
       "      <td>James Whale</td>\n",
       "      <td>Claude Rains</td>\n",
       "      <td>Gloria Stuart</td>\n",
       "      <td>William Harrigan</td>\n",
       "      <td>Henry Travers</td>\n",
       "      <td>34632</td>\n",
       "      <td>NaN</td>\n",
       "    </tr>\n",
       "  </tbody>\n",
       "</table>\n",
       "</div>"
      ],
      "text/plain": [
       "                           name  year certificate  runtime           genre  \\\n",
       "IMDb ranking                                                                 \n",
       "1,000.00      The Invisible Man  1933           A       71  Horror, Sci-Fi   \n",
       "\n",
       "              rating  metascore  \\\n",
       "IMDb ranking                      \n",
       "1,000.00         7.6       87.0   \n",
       "\n",
       "                                                        details     director  \\\n",
       "IMDb ranking                                                                   \n",
       "1,000.00      A scientist finds a way of becoming invisible,...  James Whale   \n",
       "\n",
       "                   actor 1        actor 2           actor 3        actor 4  \\\n",
       "IMDb ranking                                                                 \n",
       "1,000.00      Claude Rains  Gloria Stuart  William Harrigan  Henry Travers   \n",
       "\n",
       "              votes  gross  \n",
       "IMDb ranking                \n",
       "1,000.00      34632    NaN  "
      ]
     },
     "execution_count": 116,
     "metadata": {},
     "output_type": "execute_result"
    }
   ],
   "source": [
    "df.iloc[[-1]]"
   ]
  },
  {
   "cell_type": "markdown",
   "id": "3872e599",
   "metadata": {},
   "source": [
    "### Highest rated movie"
   ]
  },
  {
   "cell_type": "code",
   "execution_count": 45,
   "id": "a876a266",
   "metadata": {},
   "outputs": [
    {
     "data": {
      "text/html": [
       "<div>\n",
       "<style scoped>\n",
       "    .dataframe tbody tr th:only-of-type {\n",
       "        vertical-align: middle;\n",
       "    }\n",
       "\n",
       "    .dataframe tbody tr th {\n",
       "        vertical-align: top;\n",
       "    }\n",
       "\n",
       "    .dataframe thead th {\n",
       "        text-align: right;\n",
       "    }\n",
       "</style>\n",
       "<table border=\"1\" class=\"dataframe\">\n",
       "  <thead>\n",
       "    <tr style=\"text-align: right;\">\n",
       "      <th></th>\n",
       "      <th>name</th>\n",
       "      <th>year</th>\n",
       "      <th>certificate</th>\n",
       "      <th>runtime</th>\n",
       "      <th>genre</th>\n",
       "      <th>rating</th>\n",
       "      <th>metascore</th>\n",
       "      <th>details</th>\n",
       "      <th>director</th>\n",
       "      <th>actor 1</th>\n",
       "      <th>actor 2</th>\n",
       "      <th>actor 3</th>\n",
       "      <th>actor 4</th>\n",
       "      <th>votes</th>\n",
       "      <th>gross</th>\n",
       "    </tr>\n",
       "    <tr>\n",
       "      <th>IMDb ranking</th>\n",
       "      <th></th>\n",
       "      <th></th>\n",
       "      <th></th>\n",
       "      <th></th>\n",
       "      <th></th>\n",
       "      <th></th>\n",
       "      <th></th>\n",
       "      <th></th>\n",
       "      <th></th>\n",
       "      <th></th>\n",
       "      <th></th>\n",
       "      <th></th>\n",
       "      <th></th>\n",
       "      <th></th>\n",
       "      <th></th>\n",
       "    </tr>\n",
       "  </thead>\n",
       "  <tbody>\n",
       "    <tr>\n",
       "      <th>1</th>\n",
       "      <td>The Shawshank Redemption</td>\n",
       "      <td>1994</td>\n",
       "      <td>15</td>\n",
       "      <td>142</td>\n",
       "      <td>Drama</td>\n",
       "      <td>9.3</td>\n",
       "      <td>81.0</td>\n",
       "      <td>Two imprisoned men bond over a number of years...</td>\n",
       "      <td>Frank Darabont</td>\n",
       "      <td>Tim Robbins</td>\n",
       "      <td>Morgan Freeman</td>\n",
       "      <td>Bob Gunton</td>\n",
       "      <td>William Sadler</td>\n",
       "      <td>2603314</td>\n",
       "      <td>28.34</td>\n",
       "    </tr>\n",
       "  </tbody>\n",
       "</table>\n",
       "</div>"
      ],
      "text/plain": [
       "                                  name  year certificate  runtime  genre  \\\n",
       "IMDb ranking                                                               \n",
       "1             The Shawshank Redemption  1994          15      142  Drama   \n",
       "\n",
       "              rating  metascore  \\\n",
       "IMDb ranking                      \n",
       "1                9.3       81.0   \n",
       "\n",
       "                                                        details  \\\n",
       "IMDb ranking                                                      \n",
       "1             Two imprisoned men bond over a number of years...   \n",
       "\n",
       "                    director      actor 1         actor 2     actor 3  \\\n",
       "IMDb ranking                                                            \n",
       "1             Frank Darabont  Tim Robbins  Morgan Freeman  Bob Gunton   \n",
       "\n",
       "                     actor 4    votes  gross  \n",
       "IMDb ranking                                  \n",
       "1             William Sadler  2603314  28.34  "
      ]
     },
     "execution_count": 45,
     "metadata": {},
     "output_type": "execute_result"
    }
   ],
   "source": [
    "df.iloc[[0]]"
   ]
  },
  {
   "cell_type": "markdown",
   "id": "13287acc",
   "metadata": {},
   "source": [
    "### Distribution of movies by rating"
   ]
  },
  {
   "cell_type": "code",
   "execution_count": 11,
   "id": "a81473f2",
   "metadata": {},
   "outputs": [
    {
     "data": {
      "text/plain": [
       "<AxesSubplot:>"
      ]
     },
     "execution_count": 11,
     "metadata": {},
     "output_type": "execute_result"
    },
    {
     "data": {
      "image/png": "[encoded data removed]",
      "text/plain": [
       "<Figure size 432x288 with 1 Axes>"
      ]
     },
     "metadata": {
      "needs_background": "light"
     },
     "output_type": "display_data"
    }
   ],
   "source": [
    "df['rating'].hist()"
   ]
  },
  {
   "cell_type": "markdown",
   "id": "b1d552de",
   "metadata": {},
   "source": [
    "#### We can see that although the #1 movie (The Shawshank Redemption) has a rating of 9.3, this is an unusually high rating. Most movies from IMDb's Top 1,000 list have a rating of 7.6 - 8.0"
   ]
  },
  {
   "cell_type": "markdown",
   "id": "1e93c186",
   "metadata": {},
   "source": [
    "### Movie with the longest runtime"
   ]
  },
  {
   "cell_type": "code",
   "execution_count": 99,
   "id": "c6db527f",
   "metadata": {},
   "outputs": [
    {
     "data": {
      "text/html": [
       "<div>\n",
       "<style scoped>\n",
       "    .dataframe tbody tr th:only-of-type {\n",
       "        vertical-align: middle;\n",
       "    }\n",
       "\n",
       "    .dataframe tbody tr th {\n",
       "        vertical-align: top;\n",
       "    }\n",
       "\n",
       "    .dataframe thead th {\n",
       "        text-align: right;\n",
       "    }\n",
       "</style>\n",
       "<table border=\"1\" class=\"dataframe\">\n",
       "  <thead>\n",
       "    <tr style=\"text-align: right;\">\n",
       "      <th></th>\n",
       "      <th>name</th>\n",
       "      <th>year</th>\n",
       "      <th>certificate</th>\n",
       "      <th>runtime</th>\n",
       "      <th>genre</th>\n",
       "      <th>rating</th>\n",
       "      <th>metascore</th>\n",
       "      <th>details</th>\n",
       "      <th>director</th>\n",
       "      <th>actor 1</th>\n",
       "      <th>actor 2</th>\n",
       "      <th>actor 3</th>\n",
       "      <th>actor 4</th>\n",
       "      <th>votes</th>\n",
       "      <th>gross</th>\n",
       "    </tr>\n",
       "    <tr>\n",
       "      <th>IMDb ranking</th>\n",
       "      <th></th>\n",
       "      <th></th>\n",
       "      <th></th>\n",
       "      <th></th>\n",
       "      <th></th>\n",
       "      <th></th>\n",
       "      <th></th>\n",
       "      <th></th>\n",
       "      <th></th>\n",
       "      <th></th>\n",
       "      <th></th>\n",
       "      <th></th>\n",
       "      <th></th>\n",
       "      <th></th>\n",
       "      <th></th>\n",
       "    </tr>\n",
       "  </thead>\n",
       "  <tbody>\n",
       "    <tr>\n",
       "      <th>148</th>\n",
       "      <td>Gangs of Wasseypur</td>\n",
       "      <td>2012</td>\n",
       "      <td>18</td>\n",
       "      <td>321</td>\n",
       "      <td>Action, Comedy, Crime</td>\n",
       "      <td>8.2</td>\n",
       "      <td>89.0</td>\n",
       "      <td>A clash between Sultan and Shahid Khan leads t...</td>\n",
       "      <td>Anurag Kashyap</td>\n",
       "      <td>Manoj Bajpayee</td>\n",
       "      <td>Richa Chadha</td>\n",
       "      <td>Nawazuddin Siddiqui</td>\n",
       "      <td>Tigmanshu Dhulia</td>\n",
       "      <td>94201</td>\n",
       "      <td>NaN</td>\n",
       "    </tr>\n",
       "  </tbody>\n",
       "</table>\n",
       "</div>"
      ],
      "text/plain": [
       "                            name  year certificate  runtime  \\\n",
       "IMDb ranking                                                  \n",
       "148           Gangs of Wasseypur  2012          18      321   \n",
       "\n",
       "                              genre  rating  metascore  \\\n",
       "IMDb ranking                                             \n",
       "148           Action, Comedy, Crime     8.2       89.0   \n",
       "\n",
       "                                                        details  \\\n",
       "IMDb ranking                                                      \n",
       "148           A clash between Sultan and Shahid Khan leads t...   \n",
       "\n",
       "                    director         actor 1       actor 2  \\\n",
       "IMDb ranking                                                 \n",
       "148           Anurag Kashyap  Manoj Bajpayee  Richa Chadha   \n",
       "\n",
       "                          actor 3           actor 4  votes  gross  \n",
       "IMDb ranking                                                       \n",
       "148           Nawazuddin Siddiqui  Tigmanshu Dhulia  94201    NaN  "
      ]
     },
     "execution_count": 99,
     "metadata": {},
     "output_type": "execute_result"
    }
   ],
   "source": [
    "df[df['runtime']==df['runtime'].max()]"
   ]
  },
  {
   "cell_type": "markdown",
   "id": "f88a3430",
   "metadata": {},
   "source": [
    "### Movie with the shortest runtime"
   ]
  },
  {
   "cell_type": "code",
   "execution_count": 98,
   "id": "66a92d34",
   "metadata": {},
   "outputs": [
    {
     "data": {
      "text/html": [
       "<div>\n",
       "<style scoped>\n",
       "    .dataframe tbody tr th:only-of-type {\n",
       "        vertical-align: middle;\n",
       "    }\n",
       "\n",
       "    .dataframe tbody tr th {\n",
       "        vertical-align: top;\n",
       "    }\n",
       "\n",
       "    .dataframe thead th {\n",
       "        text-align: right;\n",
       "    }\n",
       "</style>\n",
       "<table border=\"1\" class=\"dataframe\">\n",
       "  <thead>\n",
       "    <tr style=\"text-align: right;\">\n",
       "      <th></th>\n",
       "      <th>name</th>\n",
       "      <th>year</th>\n",
       "      <th>certificate</th>\n",
       "      <th>runtime</th>\n",
       "      <th>genre</th>\n",
       "      <th>rating</th>\n",
       "      <th>metascore</th>\n",
       "      <th>details</th>\n",
       "      <th>director</th>\n",
       "      <th>actor 1</th>\n",
       "      <th>actor 2</th>\n",
       "      <th>actor 3</th>\n",
       "      <th>actor 4</th>\n",
       "      <th>votes</th>\n",
       "      <th>gross</th>\n",
       "    </tr>\n",
       "    <tr>\n",
       "      <th>IMDb ranking</th>\n",
       "      <th></th>\n",
       "      <th></th>\n",
       "      <th></th>\n",
       "      <th></th>\n",
       "      <th></th>\n",
       "      <th></th>\n",
       "      <th></th>\n",
       "      <th></th>\n",
       "      <th></th>\n",
       "      <th></th>\n",
       "      <th></th>\n",
       "      <th></th>\n",
       "      <th></th>\n",
       "      <th></th>\n",
       "      <th></th>\n",
       "    </tr>\n",
       "  </thead>\n",
       "  <tbody>\n",
       "    <tr>\n",
       "      <th>205</th>\n",
       "      <td>Sherlock Jr.</td>\n",
       "      <td>1924</td>\n",
       "      <td>U</td>\n",
       "      <td>45</td>\n",
       "      <td>Action, Comedy, Romance</td>\n",
       "      <td>8.2</td>\n",
       "      <td>NaN</td>\n",
       "      <td>A film projectionist longs to be a detective, ...</td>\n",
       "      <td>Buster Keaton</td>\n",
       "      <td>Buster Keaton</td>\n",
       "      <td>Kathryn McGuire</td>\n",
       "      <td>Joe Keaton</td>\n",
       "      <td>Erwin Connelly</td>\n",
       "      <td>48922</td>\n",
       "      <td>0.98</td>\n",
       "    </tr>\n",
       "  </tbody>\n",
       "</table>\n",
       "</div>"
      ],
      "text/plain": [
       "                      name  year certificate  runtime  \\\n",
       "IMDb ranking                                            \n",
       "205           Sherlock Jr.  1924           U       45   \n",
       "\n",
       "                                genre  rating  metascore  \\\n",
       "IMDb ranking                                               \n",
       "205           Action, Comedy, Romance     8.2        NaN   \n",
       "\n",
       "                                                        details  \\\n",
       "IMDb ranking                                                      \n",
       "205           A film projectionist longs to be a detective, ...   \n",
       "\n",
       "                   director        actor 1          actor 2     actor 3  \\\n",
       "IMDb ranking                                                              \n",
       "205           Buster Keaton  Buster Keaton  Kathryn McGuire  Joe Keaton   \n",
       "\n",
       "                     actor 4  votes  gross  \n",
       "IMDb ranking                                \n",
       "205           Erwin Connelly  48922   0.98  "
      ]
     },
     "execution_count": 98,
     "metadata": {},
     "output_type": "execute_result"
    }
   ],
   "source": [
    "df[df['runtime']==df['runtime'].min()]"
   ]
  },
  {
   "cell_type": "markdown",
   "id": "97256bd6",
   "metadata": {},
   "source": [
    "### Average runtime"
   ]
  },
  {
   "cell_type": "code",
   "execution_count": 135,
   "id": "0f06ec7e",
   "metadata": {},
   "outputs": [
    {
     "data": {
      "text/plain": [
       "123.637"
      ]
     },
     "execution_count": 135,
     "metadata": {},
     "output_type": "execute_result"
    }
   ],
   "source": [
    "df['runtime'].mean()"
   ]
  },
  {
   "cell_type": "markdown",
   "id": "c51c2837",
   "metadata": {},
   "source": [
    "### Distribution of movies by year"
   ]
  },
  {
   "cell_type": "code",
   "execution_count": 156,
   "id": "376326bf",
   "metadata": {},
   "outputs": [
    {
     "data": {
      "text/plain": [
       "<AxesSubplot:>"
      ]
     },
     "execution_count": 156,
     "metadata": {},
     "output_type": "execute_result"
    },
    {
     "data": {
      "image/png": "[encoded data removed]",
      "text/plain": [
       "<Figure size 432x288 with 1 Axes>"
      ]
     },
     "metadata": {
      "needs_background": "light"
     },
     "output_type": "display_data"
    }
   ],
   "source": [
    "df['year'].hist()"
   ]
  },
  {
   "cell_type": "markdown",
   "id": "0e7df7f6",
   "metadata": {},
   "source": [
    "#### We can see that most of the movies in IMDb's Top 1,000 are from the past three decades"
   ]
  },
  {
   "cell_type": "markdown",
   "id": "ecd82e77",
   "metadata": {},
   "source": [
    "### Most common genre tags"
   ]
  },
  {
   "cell_type": "code",
   "execution_count": 128,
   "id": "bf7055c8",
   "metadata": {},
   "outputs": [
    {
     "data": {
      "text/plain": [
       "Drama                           84\n",
       "Drama, Romance                  37\n",
       "Comedy, Drama                   34\n",
       "Comedy, Drama, Romance          34\n",
       "Action, Crime, Drama            32\n",
       "Crime, Drama                    30\n",
       "Animation, Adventure, Comedy    30\n",
       "Crime, Drama, Mystery           29\n",
       "Crime, Drama, Thriller          26\n",
       "Biography, Drama, History       25\n",
       "Name: genre, dtype: int64"
      ]
     },
     "execution_count": 128,
     "metadata": {},
     "output_type": "execute_result"
    }
   ],
   "source": [
    "df['genre'].value_counts().head(10)"
   ]
  },
  {
   "cell_type": "markdown",
   "id": "1e8fb7b8",
   "metadata": {},
   "source": [
    "### Total number of movies tagged as...."
   ]
  },
  {
   "cell_type": "code",
   "execution_count": 130,
   "id": "d1088d23",
   "metadata": {},
   "outputs": [
    {
     "name": "stdout",
     "output_type": "stream",
     "text": [
      "Drama - 730\n",
      "Romance - 127\n",
      "Comedy - 237\n",
      "Action - 200\n",
      "Crime - 207\n",
      "Thriller - 131\n",
      "Animation - 83\n",
      "Adventure - 190\n",
      "History - 51\n",
      "Biography - 107\n"
     ]
    }
   ],
   "source": [
    "for a in ['Drama','Romance','Comedy','Action','Crime','Thriller','Animation','Adventure','History','Biography']:\n",
    "    print(a,\"-\",len(df[df['genre'].str.contains(a)]))"
   ]
  },
  {
   "cell_type": "markdown",
   "id": "b2cf33cb",
   "metadata": {},
   "source": [
    "#### We can see that over two-thirds of IDMb's Top 1,000 movies have the \"Drama\" tag"
   ]
  },
  {
   "cell_type": "code",
   "execution_count": null,
   "id": "625b0fb1",
   "metadata": {},
   "outputs": [],
   "source": []
  }
 ],
 "metadata": {
  "kernelspec": {
   "display_name": "Python 3 (ipykernel)",
   "language": "python",
   "name": "python3"
  },
  "language_info": {
   "codemirror_mode": {
    "name": "ipython",
    "version": 3
   },
   "file_extension": ".py",
   "mimetype": "text/x-python",
   "name": "python",
   "nbconvert_exporter": "python",
   "pygments_lexer": "ipython3",
   "version": "3.10.6"
  }
 },
 "nbformat": 4,
 "nbformat_minor": 5
}
