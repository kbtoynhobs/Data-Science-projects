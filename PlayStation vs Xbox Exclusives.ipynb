{
 "cells": [
  {
   "cell_type": "markdown",
   "id": "1ad7dee1",
   "metadata": {},
   "source": [
    "# PlayStation Exclusives vs Xbox Exclusives"
   ]
  },
  {
   "cell_type": "code",
   "execution_count": 160,
   "id": "efd6ef93",
   "metadata": {},
   "outputs": [],
   "source": [
    "import requests\n",
    "import unicodedata\n",
    "from bs4 import BeautifulSoup\n",
    "import pandas as pd\n",
    "import matplotlib.pyplot as plt\n",
    "import numpy as np"
   ]
  },
  {
   "cell_type": "code",
   "execution_count": 162,
   "id": "50844af4",
   "metadata": {},
   "outputs": [],
   "source": [
    "#PlayStation exclusives\n",
    "url1 = \"https://store.playstation.com/en-us/category/5bb9a9b4-f9f4-454e-bf57-0a74bc3a7ee9/1\"\n",
    "url2 = \"https://store.playstation.com/en-us/category/5bb9a9b4-f9f4-454e-bf57-0a74bc3a7ee9/2\"\n",
    "response1 = requests.get(url1)\n",
    "response2 = requests.get(url2)"
   ]
  },
  {
   "cell_type": "code",
   "execution_count": 163,
   "id": "5eccf211",
   "metadata": {},
   "outputs": [],
   "source": [
    "soup1 = BeautifulSoup(response1.content, 'html5lib')\n",
    "soup2 = BeautifulSoup(response2.content, 'html5lib')"
   ]
  },
  {
   "cell_type": "code",
   "execution_count": 164,
   "id": "6f54947c",
   "metadata": {},
   "outputs": [],
   "source": [
    "table1 = soup1.find_all(name='span')\n",
    "table2 = soup2.find_all(name='span')\n",
    "PStable = table1 + table2"
   ]
  },
  {
   "cell_type": "code",
   "execution_count": 165,
   "id": "5daf68da",
   "metadata": {},
   "outputs": [],
   "source": [
    "PSgames = []\n",
    "count = 0\n",
    "for i in PStable:\n",
    "    if \"product-name\" in str(i):\n",
    "        PSgames.append(i)\n",
    "        count = count+1"
   ]
  },
  {
   "cell_type": "code",
   "execution_count": 166,
   "id": "cf050945",
   "metadata": {},
   "outputs": [
    {
     "data": {
      "text/plain": [
       "41"
      ]
     },
     "execution_count": 166,
     "metadata": {},
     "output_type": "execute_result"
    }
   ],
   "source": [
    "count"
   ]
  },
  {
   "cell_type": "code",
   "execution_count": 188,
   "id": "c3a04fb4",
   "metadata": {},
   "outputs": [
    {
     "data": {
      "text/plain": [
       "['The Last of Us™ Part I']"
      ]
     },
     "execution_count": 188,
     "metadata": {},
     "output_type": "execute_result"
    }
   ],
   "source": [
    "PSgames[0].contents"
   ]
  },
  {
   "cell_type": "code",
   "execution_count": 189,
   "id": "b10c2e0c",
   "metadata": {},
   "outputs": [
    {
     "name": "stdout",
     "output_type": "stream",
     "text": [
      "The Last of Us™ Part I\n",
      "God of War Ragnarök\n",
      "The Tomorrow Children: Phoenix Edition\n",
      "VALKYRIE ELYSIUM PS4&PS5\n",
      "Inscryption\n",
      "Stray\n",
      "Rollerdrome\n",
      "Vampire: The Masquerade - Bloodhunt - Founder’s Ultimate Edition\n",
      "Ghostwire: Tokyo\n",
      "Five Nights at Freddy's: Security Breach\n",
      "Gran Turismo® 7\n",
      "UNCHARTED: Legacy of Thieves Collection\n",
      "Horizon Forbidden West™\n",
      "Arcadegeddon\n",
      "Ghost of Tsushima DIRECTOR’S CUT\n",
      "DEATH STRANDING DIRECTOR’S CUT\n",
      "Marvel's Spider-Man: Miles Morales PS4 & PS5\n",
      "Demon's Souls\n",
      "Sackboy: A Big Adventure PS4 & PS5\n",
      "Destruction AllStars\n",
      "Ratchet & Clank: Rift Apart\n",
      "Returnal\n",
      "The Nioh Collection\n",
      "The Last of Us Part II\n",
      "God of War III Remastered\n",
      "Horizon Zero Dawn: Complete Edition\n",
      "The Last Of Us™ Remastered \n",
      "Dreams\n",
      "Days Gone\n",
      "Bloodborne™\n",
      "SHADOW OF THE COLOSSUS\n",
      "Ratchet & Clank™\n",
      "The Last Guardian\n",
      "UNCHARTED™ The Nathan Drake Collection\n",
      "Until Dawn\n",
      "Detroit: Become Human\n",
      "WipEout Omega Collection\n",
      "ASTRO BOT Rescue Mission\n",
      "Marvel's Iron Man VR\n",
      "Blood & Truth\n",
      "ASTRO's PLAYROOM\n"
     ]
    }
   ],
   "source": [
    "for i in PSgames:\n",
    "    print(str(i.contents)[2:-2])"
   ]
  },
  {
   "cell_type": "code",
   "execution_count": null,
   "id": "e6b79c9d",
   "metadata": {},
   "outputs": [],
   "source": []
  }
 ],
 "metadata": {
  "kernelspec": {
   "display_name": "Python 3 (ipykernel)",
   "language": "python",
   "name": "python3"
  },
  "language_info": {
   "codemirror_mode": {
    "name": "ipython",
    "version": 3
   },
   "file_extension": ".py",
   "mimetype": "text/x-python",
   "name": "python",
   "nbconvert_exporter": "python",
   "pygments_lexer": "ipython3",
   "version": "3.10.6"
  }
 },
 "nbformat": 4,
 "nbformat_minor": 5
}
