{
 "cells": [
  {
   "cell_type": "markdown",
   "id": "1ad7dee1",
   "metadata": {},
   "source": [
    "# PlayStation, Xbox, and Nintendo Switch Exclusives"
   ]
  },
  {
   "cell_type": "code",
   "execution_count": 3,
   "id": "efd6ef93",
   "metadata": {},
   "outputs": [],
   "source": [
    "import requests\n",
    "import unicodedata\n",
    "from bs4 import BeautifulSoup\n",
    "import pandas as pd\n",
    "import matplotlib.pyplot as plt\n",
    "import numpy as np"
   ]
  },
  {
   "cell_type": "code",
   "execution_count": 4,
   "id": "50844af4",
   "metadata": {},
   "outputs": [],
   "source": [
    "#get PS exclusive titles using PS store links\n",
    "url1 = \"https://store.playstation.com/en-us/category/5bb9a9b4-f9f4-454e-bf57-0a74bc3a7ee9/1\"\n",
    "url2 = \"https://store.playstation.com/en-us/category/5bb9a9b4-f9f4-454e-bf57-0a74bc3a7ee9/2\"\n",
    "response1 = requests.get(url1)\n",
    "response2 = requests.get(url2)"
   ]
  },
  {
   "cell_type": "code",
   "execution_count": 9,
   "id": "9a574e25",
   "metadata": {},
   "outputs": [
    {
     "data": {
      "text/html": [
       "<div>\n",
       "<style scoped>\n",
       "    .dataframe tbody tr th:only-of-type {\n",
       "        vertical-align: middle;\n",
       "    }\n",
       "\n",
       "    .dataframe tbody tr th {\n",
       "        vertical-align: top;\n",
       "    }\n",
       "\n",
       "    .dataframe thead th {\n",
       "        text-align: right;\n",
       "    }\n",
       "</style>\n",
       "<table border=\"1\" class=\"dataframe\">\n",
       "  <thead>\n",
       "    <tr style=\"text-align: right;\">\n",
       "      <th></th>\n",
       "      <th>Title</th>\n",
       "      <th>Platform</th>\n",
       "    </tr>\n",
       "  </thead>\n",
       "  <tbody>\n",
       "    <tr>\n",
       "      <th>0</th>\n",
       "      <td>The Last of Us Part I</td>\n",
       "      <td>PS</td>\n",
       "    </tr>\n",
       "    <tr>\n",
       "      <th>1</th>\n",
       "      <td>God of War Ragnarök</td>\n",
       "      <td>PS</td>\n",
       "    </tr>\n",
       "    <tr>\n",
       "      <th>2</th>\n",
       "      <td>The Tomorrow Children: Phoenix Edition</td>\n",
       "      <td>PS</td>\n",
       "    </tr>\n",
       "    <tr>\n",
       "      <th>3</th>\n",
       "      <td>VALKYRIE ELYSIUM PS4&amp;PS5</td>\n",
       "      <td>PS</td>\n",
       "    </tr>\n",
       "    <tr>\n",
       "      <th>4</th>\n",
       "      <td>Inscryption</td>\n",
       "      <td>PS</td>\n",
       "    </tr>\n",
       "  </tbody>\n",
       "</table>\n",
       "</div>"
      ],
      "text/plain": [
       "                                    Title Platform\n",
       "0                   The Last of Us Part I       PS\n",
       "1                     God of War Ragnarök       PS\n",
       "2  The Tomorrow Children: Phoenix Edition       PS\n",
       "3                VALKYRIE ELYSIUM PS4&PS5       PS\n",
       "4                             Inscryption       PS"
      ]
     },
     "execution_count": 9,
     "metadata": {},
     "output_type": "execute_result"
    }
   ],
   "source": [
    "soup1 = BeautifulSoup(response1.content, 'html5lib')\n",
    "soup2 = BeautifulSoup(response2.content, 'html5lib')\n",
    "table1 = soup1.find_all(name='span')\n",
    "table2 = soup2.find_all(name='span')\n",
    "spans = table1 + table2\n",
    "psgamesraw = []\n",
    "for i in spans:\n",
    "    if \"product-name\" in str(i):\n",
    "        psgamesraw.append(i)\n",
    "psgames = []\n",
    "#append titles to psgames, without any ™ symbols\n",
    "for i in psgamesraw:\n",
    "    psgames.append(str(i.contents)[2:-2].replace('™',''))\n",
    "#create dataframe with psgames\n",
    "games = pd.DataFrame(psgames, columns={'Title'})\n",
    "games['Platform'] = 'PS'\n",
    "#show first 5 titles\n",
    "games.head()"
   ]
  },
  {
   "cell_type": "code",
   "execution_count": 293,
   "id": "4a9cb99a",
   "metadata": {},
   "outputs": [],
   "source": [
    "#text = \"The Last of Us Part I\"\n",
    "#url = 'https://google.com/search?q=' + \"site:ign.com/games/ \" + text\n",
    "#response = requests.get(url)"
   ]
  },
  {
   "cell_type": "code",
   "execution_count": 1,
   "id": "6eea2140",
   "metadata": {},
   "outputs": [],
   "source": [
    "#soup = BeautifulSoup(response.text, \"html.parser\")\n",
    "#x = soup.text.find(\"›\")+10\n",
    "#y = soup.text.find(\"Rating\")\n",
    "#string = soup.text[x:y]\n",
    "#igntag = ''\n",
    "#for a in string:\n",
    "#    if a==a.lower():\n",
    "#        igntag += a\n",
    "#    else:\n",
    "#        break\n",
    "#url = \"https://www.ign.com/games/\"+igntag\n",
    "#if len(string) > len(text):\n",
    "#    rating = \"Not Rated\"\n",
    "#else:\n",
    "#    rating = soup.text[y+8:y+9]"
   ]
  },
  {
   "cell_type": "code",
   "execution_count": 2,
   "id": "35cdf797",
   "metadata": {},
   "outputs": [],
   "source": [
    "#for title in games.Title:\n",
    "#    url = 'https://google.com/search?q=' + \"site:ign.com/games/ \" + title\n",
    "#    response = requests.get(url)\n",
    "#    soup = BeautifulSoup(response.text, \"html.parser\")\n",
    "#    x = soup.text.find(\"›\") +10\n",
    "#    y = soup.text.find(\"Rating\")\n",
    "#    string = soup.text[x:y]\n",
    "#    igntag = ''\n",
    "#    for a in string:\n",
    "#        if a==a.lower():\n",
    "#            igntag += a\n",
    "#        else:\n",
    "#            break\n",
    "#    url = \"https://www.ign.com/games/\"+igntag\n",
    "#    if len(string) > len(text):\n",
    "#        rating = \"Not Rated\"\n",
    "#    else:\n",
    "#        rating = soup.text[y+8:y+9]\n",
    "\n",
    "#    NOT WORKING:\n",
    "#    games[games.Title==title]['URL'] = url\n",
    "#    games[games.Title==title]['Rating'] = rating"
   ]
  },
  {
   "cell_type": "code",
   "execution_count": null,
   "id": "cf7f0fff",
   "metadata": {},
   "outputs": [],
   "source": []
  }
 ],
 "metadata": {
  "kernelspec": {
   "display_name": "Python 3 (ipykernel)",
   "language": "python",
   "name": "python3"
  },
  "language_info": {
   "codemirror_mode": {
    "name": "ipython",
    "version": 3
   },
   "file_extension": ".py",
   "mimetype": "text/x-python",
   "name": "python",
   "nbconvert_exporter": "python",
   "pygments_lexer": "ipython3",
   "version": "3.10.6"
  }
 },
 "nbformat": 4,
 "nbformat_minor": 5
}
