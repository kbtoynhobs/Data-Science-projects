{
 "cells": [
  {
   "cell_type": "markdown",
   "id": "5c9ae49b",
   "metadata": {},
   "source": [
    "# IMDb Top 1,000 Movies - Data Cleaning"
   ]
  },
  {
   "cell_type": "code",
   "execution_count": 1,
   "id": "2e2d12fa",
   "metadata": {},
   "outputs": [],
   "source": [
    "import pandas as pd\n",
    "import matplotlib.pyplot as plt\n",
    "import numpy as np"
   ]
  },
  {
   "cell_type": "markdown",
   "id": "e70a96ef",
   "metadata": {},
   "source": [
    "##### <div class=\"alert-warning\">Data Source: https://www.kaggle.com/datasets/ramjasmaurya/top-250s-in-imdb</div>"
   ]
  },
  {
   "cell_type": "code",
   "execution_count": 2,
   "id": "702c45db",
   "metadata": {},
   "outputs": [
    {
     "data": {
      "text/html": [
       "<div>\n",
       "<style scoped>\n",
       "    .dataframe tbody tr th:only-of-type {\n",
       "        vertical-align: middle;\n",
       "    }\n",
       "\n",
       "    .dataframe tbody tr th {\n",
       "        vertical-align: top;\n",
       "    }\n",
       "\n",
       "    .dataframe thead th {\n",
       "        text-align: right;\n",
       "    }\n",
       "</style>\n",
       "<table border=\"1\" class=\"dataframe\">\n",
       "  <thead>\n",
       "    <tr style=\"text-align: right;\">\n",
       "      <th></th>\n",
       "      <th>movie name\\r\\n</th>\n",
       "      <th>Year</th>\n",
       "      <th>certificate</th>\n",
       "      <th>runtime</th>\n",
       "      <th>genre</th>\n",
       "      <th>RATING</th>\n",
       "      <th>metascore</th>\n",
       "      <th>DETAIL ABOUT MOVIE\\n</th>\n",
       "      <th>DIRECTOR\\r\\n</th>\n",
       "      <th>ACTOR 1\\n</th>\n",
       "      <th>ACTOR 2\\n</th>\n",
       "      <th>ACTOR 3</th>\n",
       "      <th>ACTOR 4</th>\n",
       "      <th>votes</th>\n",
       "      <th>GROSS COLLECTION\\r\\n</th>\n",
       "    </tr>\n",
       "    <tr>\n",
       "      <th>ranking of movie</th>\n",
       "      <th></th>\n",
       "      <th></th>\n",
       "      <th></th>\n",
       "      <th></th>\n",
       "      <th></th>\n",
       "      <th></th>\n",
       "      <th></th>\n",
       "      <th></th>\n",
       "      <th></th>\n",
       "      <th></th>\n",
       "      <th></th>\n",
       "      <th></th>\n",
       "      <th></th>\n",
       "      <th></th>\n",
       "      <th></th>\n",
       "    </tr>\n",
       "  </thead>\n",
       "  <tbody>\n",
       "    <tr>\n",
       "      <th>1</th>\n",
       "      <td>The Shawshank Redemption</td>\n",
       "      <td>-1994</td>\n",
       "      <td>15</td>\n",
       "      <td>142 min</td>\n",
       "      <td>Drama</td>\n",
       "      <td>9.3</td>\n",
       "      <td>81.0</td>\n",
       "      <td>Two imprisoned men bond over a number of years...</td>\n",
       "      <td>Frank Darabont</td>\n",
       "      <td>Tim Robbins</td>\n",
       "      <td>Morgan Freeman</td>\n",
       "      <td>Bob Gunton</td>\n",
       "      <td>William Sadler</td>\n",
       "      <td>2,603,314</td>\n",
       "      <td>$28.34M</td>\n",
       "    </tr>\n",
       "  </tbody>\n",
       "</table>\n",
       "</div>"
      ],
      "text/plain": [
       "                                movie name\\r\\n   Year certificate  runtime  \\\n",
       "ranking of movie\\r\\n                                                         \n",
       "1                     The Shawshank Redemption  -1994          15  142 min   \n",
       "\n",
       "                      genre  RATING  metascore  \\\n",
       "ranking of movie\\r\\n                             \n",
       "1                     Drama     9.3       81.0   \n",
       "\n",
       "                                                   DETAIL ABOUT MOVIE\\n  \\\n",
       "ranking of movie\\r\\n                                                      \n",
       "1                     Two imprisoned men bond over a number of years...   \n",
       "\n",
       "                        DIRECTOR\\r\\n    ACTOR 1\\n       ACTOR 2\\n     ACTOR 3  \\\n",
       "ranking of movie\\r\\n                                                            \n",
       "1                     Frank Darabont  Tim Robbins  Morgan Freeman  Bob Gunton   \n",
       "\n",
       "                             ACTOR 4      votes GROSS COLLECTION\\r\\n  \n",
       "ranking of movie\\r\\n                                                  \n",
       "1                     William Sadler  2,603,314              $28.34M  "
      ]
     },
     "execution_count": 2,
     "metadata": {},
     "output_type": "execute_result"
    }
   ],
   "source": [
    "df = pd.read_csv('imdb (1000 movies) in june 2022.csv', index_col=0)\n",
    "df.head(1)"
   ]
  },
  {
   "cell_type": "code",
   "execution_count": 3,
   "id": "91b064ba",
   "metadata": {},
   "outputs": [],
   "source": [
    "#normalize column names\n",
    "df.columns.values[[0,7,8,9,10,-1]] = ['name','details','director','actor 1','actor 2','gross']\n",
    "df.columns = df.columns.str.lower()\n",
    "df.index.name = 'IMDb ranking'"
   ]
  },
  {
   "cell_type": "code",
   "execution_count": 4,
   "id": "9cf06b7e",
   "metadata": {},
   "outputs": [
    {
     "name": "stdout",
     "output_type": "stream",
     "text": [
      "<class 'pandas.core.frame.DataFrame'>\n",
      "Index: 1000 entries, 1 to 1,000.00\n",
      "Data columns (total 15 columns):\n",
      " #   Column       Non-Null Count  Dtype  \n",
      "---  ------       --------------  -----  \n",
      " 0   name         1000 non-null   object \n",
      " 1   year         1000 non-null   object \n",
      " 2   certificate  995 non-null    object \n",
      " 3   runtime      1000 non-null   object \n",
      " 4   genre        1000 non-null   object \n",
      " 5   rating       1000 non-null   float64\n",
      " 6   metascore    837 non-null    float64\n",
      " 7   details      1000 non-null   object \n",
      " 8   director     1000 non-null   object \n",
      " 9   actor 1      1000 non-null   object \n",
      " 10  actor 2      1000 non-null   object \n",
      " 11  actor 3      1000 non-null   object \n",
      " 12  actor 4      1000 non-null   object \n",
      " 13  votes        1000 non-null   object \n",
      " 14  gross        820 non-null    object \n",
      "dtypes: float64(2), object(13)\n",
      "memory usage: 125.0+ KB\n"
     ]
    }
   ],
   "source": [
    "df.info()"
   ]
  },
  {
   "cell_type": "code",
   "execution_count": 5,
   "id": "478f3cad",
   "metadata": {},
   "outputs": [
    {
     "data": {
      "text/plain": [
       "(I) (1985)     1\n",
       "(I) (1995)     1\n",
       "(I) (2001)     1\n",
       "(I) (2004)     3\n",
       "(I) (2007)     1\n",
       "              ..\n",
       "-2018         19\n",
       "-2019         24\n",
       "-2020          7\n",
       "-2021         10\n",
       "-2022          5\n",
       "Name: year, Length: 121, dtype: int64"
      ]
     },
     "execution_count": 5,
     "metadata": {},
     "output_type": "execute_result"
    }
   ],
   "source": [
    "df.year.value_counts().sort_index()"
   ]
  },
  {
   "cell_type": "code",
   "execution_count": 6,
   "id": "68021c71",
   "metadata": {},
   "outputs": [],
   "source": [
    "#remove dashes from year\n",
    "df.year = df.year.str[1:]\n",
    "#convert year column to string\n",
    "df['year'] = df['year'].astype('string')\n",
    "#remove parentheses and roman numerals from year column\n",
    "rowstofix = df[df.year.str.endswith(\")\")].index.values\n",
    "for a in rowstofix:\n",
    "    df.year[int(a)-1] = df.year[int(a)-1][-5:-1]\n",
    "#convert year column to int\n",
    "df['year'] = df['year'].astype('int')"
   ]
  },
  {
   "cell_type": "code",
   "execution_count": 7,
   "id": "41f79c83",
   "metadata": {},
   "outputs": [],
   "source": [
    "#change NaNs in certificate column to 'Not Rated'\n",
    "df['certificate'] = df['certificate'].replace(np.nan,'Not Rated')"
   ]
  },
  {
   "cell_type": "code",
   "execution_count": 8,
   "id": "43b4e52a",
   "metadata": {},
   "outputs": [],
   "source": [
    "#remove 'min' from runtime column\n",
    "df.runtime = df.runtime.str[:-4]\n",
    "#convert runtime column to int\n",
    "df['runtime'] = df['runtime'].astype(int)"
   ]
  },
  {
   "cell_type": "code",
   "execution_count": 9,
   "id": "5a17a811",
   "metadata": {},
   "outputs": [],
   "source": [
    "#replace NaNs with zeroes in metascore column\n",
    "df['metascore'] = df['metascore'].replace(np.nan, 0)"
   ]
  },
  {
   "cell_type": "code",
   "execution_count": 10,
   "id": "c6b84d33",
   "metadata": {},
   "outputs": [],
   "source": [
    "#remove commas from votes column\n",
    "df['votes'] = df['votes'].str.replace(\",\",\"\")\n",
    "#convert votes column to int\n",
    "df['votes'] = df['votes'].astype('int')"
   ]
  },
  {
   "cell_type": "code",
   "execution_count": 11,
   "id": "151362a8",
   "metadata": {},
   "outputs": [],
   "source": [
    "#remove $ and M from gross column\n",
    "df['gross'] = df.gross.str[1:-1]\n",
    "#convert gross column to float\n",
    "df['gross'] = df['gross'].astype('float')\n",
    "#change NaNs in gross column to zeroes\n",
    "df['gross'] = df['gross'].replace(np.nan, 0)"
   ]
  },
  {
   "cell_type": "code",
   "execution_count": 12,
   "id": "88db0d42",
   "metadata": {},
   "outputs": [
    {
     "name": "stdout",
     "output_type": "stream",
     "text": [
      "<class 'pandas.core.frame.DataFrame'>\n",
      "Index: 1000 entries, 1 to 1,000.00\n",
      "Data columns (total 15 columns):\n",
      " #   Column       Non-Null Count  Dtype  \n",
      "---  ------       --------------  -----  \n",
      " 0   name         1000 non-null   object \n",
      " 1   year         1000 non-null   int64  \n",
      " 2   certificate  1000 non-null   object \n",
      " 3   runtime      1000 non-null   int64  \n",
      " 4   genre        1000 non-null   object \n",
      " 5   rating       1000 non-null   float64\n",
      " 6   metascore    1000 non-null   float64\n",
      " 7   details      1000 non-null   object \n",
      " 8   director     1000 non-null   object \n",
      " 9   actor 1      1000 non-null   object \n",
      " 10  actor 2      1000 non-null   object \n",
      " 11  actor 3      1000 non-null   object \n",
      " 12  actor 4      1000 non-null   object \n",
      " 13  votes        1000 non-null   int64  \n",
      " 14  gross        1000 non-null   float64\n",
      "dtypes: float64(3), int64(3), object(9)\n",
      "memory usage: 157.3+ KB\n"
     ]
    }
   ],
   "source": [
    "df.info()"
   ]
  },
  {
   "cell_type": "code",
   "execution_count": 13,
   "id": "630d7ec5",
   "metadata": {},
   "outputs": [
    {
     "data": {
      "text/html": [
       "<div>\n",
       "<style scoped>\n",
       "    .dataframe tbody tr th:only-of-type {\n",
       "        vertical-align: middle;\n",
       "    }\n",
       "\n",
       "    .dataframe tbody tr th {\n",
       "        vertical-align: top;\n",
       "    }\n",
       "\n",
       "    .dataframe thead th {\n",
       "        text-align: right;\n",
       "    }\n",
       "</style>\n",
       "<table border=\"1\" class=\"dataframe\">\n",
       "  <thead>\n",
       "    <tr style=\"text-align: right;\">\n",
       "      <th></th>\n",
       "      <th>name</th>\n",
       "      <th>year</th>\n",
       "      <th>certificate</th>\n",
       "      <th>runtime</th>\n",
       "      <th>genre</th>\n",
       "      <th>rating</th>\n",
       "      <th>metascore</th>\n",
       "      <th>details</th>\n",
       "      <th>director</th>\n",
       "      <th>actor 1</th>\n",
       "      <th>actor 2</th>\n",
       "      <th>actor 3</th>\n",
       "      <th>actor 4</th>\n",
       "      <th>votes</th>\n",
       "      <th>gross</th>\n",
       "    </tr>\n",
       "    <tr>\n",
       "      <th>IMDb ranking</th>\n",
       "      <th></th>\n",
       "      <th></th>\n",
       "      <th></th>\n",
       "      <th></th>\n",
       "      <th></th>\n",
       "      <th></th>\n",
       "      <th></th>\n",
       "      <th></th>\n",
       "      <th></th>\n",
       "      <th></th>\n",
       "      <th></th>\n",
       "      <th></th>\n",
       "      <th></th>\n",
       "      <th></th>\n",
       "      <th></th>\n",
       "    </tr>\n",
       "  </thead>\n",
       "  <tbody>\n",
       "    <tr>\n",
       "      <th>1</th>\n",
       "      <td>The Shawshank Redemption</td>\n",
       "      <td>1994</td>\n",
       "      <td>15</td>\n",
       "      <td>142</td>\n",
       "      <td>Drama</td>\n",
       "      <td>9.3</td>\n",
       "      <td>81.0</td>\n",
       "      <td>Two imprisoned men bond over a number of years...</td>\n",
       "      <td>Frank Darabont</td>\n",
       "      <td>Tim Robbins</td>\n",
       "      <td>Morgan Freeman</td>\n",
       "      <td>Bob Gunton</td>\n",
       "      <td>William Sadler</td>\n",
       "      <td>2603314</td>\n",
       "      <td>28.34</td>\n",
       "    </tr>\n",
       "  </tbody>\n",
       "</table>\n",
       "</div>"
      ],
      "text/plain": [
       "                                  name  year certificate  runtime  genre  \\\n",
       "IMDb ranking                                                               \n",
       "1             The Shawshank Redemption  1994          15      142  Drama   \n",
       "\n",
       "              rating  metascore  \\\n",
       "IMDb ranking                      \n",
       "1                9.3       81.0   \n",
       "\n",
       "                                                        details  \\\n",
       "IMDb ranking                                                      \n",
       "1             Two imprisoned men bond over a number of years...   \n",
       "\n",
       "                    director      actor 1         actor 2     actor 3  \\\n",
       "IMDb ranking                                                            \n",
       "1             Frank Darabont  Tim Robbins  Morgan Freeman  Bob Gunton   \n",
       "\n",
       "                     actor 4    votes  gross  \n",
       "IMDb ranking                                  \n",
       "1             William Sadler  2603314  28.34  "
      ]
     },
     "execution_count": 13,
     "metadata": {},
     "output_type": "execute_result"
    }
   ],
   "source": [
    "df.head(1)"
   ]
  },
  {
   "cell_type": "code",
   "execution_count": 15,
   "id": "67d51bc6",
   "metadata": {},
   "outputs": [],
   "source": [
    "df.to_csv(\"IMDb Top 1k.csv\", index=True)"
   ]
  }
 ],
 "metadata": {
  "kernelspec": {
   "display_name": "Python 3 (ipykernel)",
   "language": "python",
   "name": "python3"
  },
  "language_info": {
   "codemirror_mode": {
    "name": "ipython",
    "version": 3
   },
   "file_extension": ".py",
   "mimetype": "text/x-python",
   "name": "python",
   "nbconvert_exporter": "python",
   "pygments_lexer": "ipython3",
   "version": "3.10.6"
  }
 },
 "nbformat": 4,
 "nbformat_minor": 5
}
