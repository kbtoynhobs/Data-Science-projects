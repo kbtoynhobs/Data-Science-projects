{
 "cells": [
  {
   "cell_type": "markdown",
   "id": "5c9ae49b",
   "metadata": {},
   "source": [
    "# Analysis of IMDb Top 1,000 Movies"
   ]
  },
  {
   "cell_type": "code",
   "execution_count": 2,
   "id": "2e2d12fa",
   "metadata": {},
   "outputs": [],
   "source": [
    "import pandas as pd\n",
    "import matplotlib.pyplot as plt\n",
    "import numpy as np\n",
    "import seaborn as sns"
   ]
  },
  {
   "cell_type": "markdown",
   "id": "e70a96ef",
   "metadata": {},
   "source": [
    "##### <div class=\"alert-warning\">Data Source: https://www.kaggle.com/datasets/ramjasmaurya/top-250s-in-imdb</div>"
   ]
  },
  {
   "cell_type": "code",
   "execution_count": 3,
   "id": "702c45db",
   "metadata": {},
   "outputs": [
    {
     "data": {
      "text/html": [
       "<div>\n",
       "<style scoped>\n",
       "    .dataframe tbody tr th:only-of-type {\n",
       "        vertical-align: middle;\n",
       "    }\n",
       "\n",
       "    .dataframe tbody tr th {\n",
       "        vertical-align: top;\n",
       "    }\n",
       "\n",
       "    .dataframe thead th {\n",
       "        text-align: right;\n",
       "    }\n",
       "</style>\n",
       "<table border=\"1\" class=\"dataframe\">\n",
       "  <thead>\n",
       "    <tr style=\"text-align: right;\">\n",
       "      <th></th>\n",
       "      <th>movie name\\r\\n</th>\n",
       "      <th>Year</th>\n",
       "      <th>certificate</th>\n",
       "      <th>runtime</th>\n",
       "      <th>genre</th>\n",
       "      <th>RATING</th>\n",
       "      <th>metascore</th>\n",
       "      <th>DETAIL ABOUT MOVIE\\n</th>\n",
       "      <th>DIRECTOR\\r\\n</th>\n",
       "      <th>ACTOR 1\\n</th>\n",
       "      <th>ACTOR 2\\n</th>\n",
       "      <th>ACTOR 3</th>\n",
       "      <th>ACTOR 4</th>\n",
       "      <th>votes</th>\n",
       "      <th>GROSS COLLECTION\\r\\n</th>\n",
       "    </tr>\n",
       "    <tr>\n",
       "      <th>ranking of movie</th>\n",
       "      <th></th>\n",
       "      <th></th>\n",
       "      <th></th>\n",
       "      <th></th>\n",
       "      <th></th>\n",
       "      <th></th>\n",
       "      <th></th>\n",
       "      <th></th>\n",
       "      <th></th>\n",
       "      <th></th>\n",
       "      <th></th>\n",
       "      <th></th>\n",
       "      <th></th>\n",
       "      <th></th>\n",
       "      <th></th>\n",
       "    </tr>\n",
       "  </thead>\n",
       "  <tbody>\n",
       "    <tr>\n",
       "      <th>1</th>\n",
       "      <td>The Shawshank Redemption</td>\n",
       "      <td>-1994</td>\n",
       "      <td>15</td>\n",
       "      <td>142 min</td>\n",
       "      <td>Drama</td>\n",
       "      <td>9.3</td>\n",
       "      <td>81.0</td>\n",
       "      <td>Two imprisoned men bond over a number of years...</td>\n",
       "      <td>Frank Darabont</td>\n",
       "      <td>Tim Robbins</td>\n",
       "      <td>Morgan Freeman</td>\n",
       "      <td>Bob Gunton</td>\n",
       "      <td>William Sadler</td>\n",
       "      <td>2,603,314</td>\n",
       "      <td>$28.34M</td>\n",
       "    </tr>\n",
       "  </tbody>\n",
       "</table>\n",
       "</div>"
      ],
      "text/plain": [
       "                                movie name\\r\\n   Year certificate  runtime  \\\n",
       "ranking of movie\\r\\n                                                         \n",
       "1                     The Shawshank Redemption  -1994          15  142 min   \n",
       "\n",
       "                      genre  RATING  metascore  \\\n",
       "ranking of movie\\r\\n                             \n",
       "1                     Drama     9.3       81.0   \n",
       "\n",
       "                                                   DETAIL ABOUT MOVIE\\n  \\\n",
       "ranking of movie\\r\\n                                                      \n",
       "1                     Two imprisoned men bond over a number of years...   \n",
       "\n",
       "                        DIRECTOR\\r\\n    ACTOR 1\\n       ACTOR 2\\n     ACTOR 3  \\\n",
       "ranking of movie\\r\\n                                                            \n",
       "1                     Frank Darabont  Tim Robbins  Morgan Freeman  Bob Gunton   \n",
       "\n",
       "                             ACTOR 4      votes GROSS COLLECTION\\r\\n  \n",
       "ranking of movie\\r\\n                                                  \n",
       "1                     William Sadler  2,603,314              $28.34M  "
      ]
     },
     "execution_count": 3,
     "metadata": {},
     "output_type": "execute_result"
    }
   ],
   "source": [
    "df = pd.read_csv('imdb (1000 movies) in june 2022.csv', index_col=0)\n",
    "df.head(1)"
   ]
  },
  {
   "cell_type": "markdown",
   "id": "98e3be59",
   "metadata": {},
   "source": [
    "## Data Cleaning"
   ]
  },
  {
   "cell_type": "code",
   "execution_count": 4,
   "id": "91b064ba",
   "metadata": {},
   "outputs": [],
   "source": [
    "#normalize column names\n",
    "df.columns.values[[0,7,8,9,10,-1]] = ['name','details','director','actor 1','actor 2','gross']\n",
    "df.columns = df.columns.str.lower()\n",
    "df.index.name = 'IMDb ranking'"
   ]
  },
  {
   "cell_type": "code",
   "execution_count": 5,
   "id": "9cf06b7e",
   "metadata": {},
   "outputs": [
    {
     "name": "stdout",
     "output_type": "stream",
     "text": [
      "<class 'pandas.core.frame.DataFrame'>\n",
      "Index: 1000 entries, 1 to 1,000.00\n",
      "Data columns (total 15 columns):\n",
      " #   Column       Non-Null Count  Dtype  \n",
      "---  ------       --------------  -----  \n",
      " 0   name         1000 non-null   object \n",
      " 1   year         1000 non-null   object \n",
      " 2   certificate  995 non-null    object \n",
      " 3   runtime      1000 non-null   object \n",
      " 4   genre        1000 non-null   object \n",
      " 5   rating       1000 non-null   float64\n",
      " 6   metascore    837 non-null    float64\n",
      " 7   details      1000 non-null   object \n",
      " 8   director     1000 non-null   object \n",
      " 9   actor 1      1000 non-null   object \n",
      " 10  actor 2      1000 non-null   object \n",
      " 11  actor 3      1000 non-null   object \n",
      " 12  actor 4      1000 non-null   object \n",
      " 13  votes        1000 non-null   object \n",
      " 14  gross        820 non-null    object \n",
      "dtypes: float64(2), object(13)\n",
      "memory usage: 125.0+ KB\n"
     ]
    }
   ],
   "source": [
    "df.info()"
   ]
  },
  {
   "cell_type": "code",
   "execution_count": 6,
   "id": "478f3cad",
   "metadata": {},
   "outputs": [
    {
     "data": {
      "text/plain": [
       "(I) (1985)     1\n",
       "(I) (1995)     1\n",
       "(I) (2001)     1\n",
       "(I) (2004)     3\n",
       "(I) (2007)     1\n",
       "              ..\n",
       "-2018         19\n",
       "-2019         24\n",
       "-2020          7\n",
       "-2021         10\n",
       "-2022          5\n",
       "Name: year, Length: 121, dtype: int64"
      ]
     },
     "execution_count": 6,
     "metadata": {},
     "output_type": "execute_result"
    }
   ],
   "source": [
    "df.year.value_counts().sort_index()"
   ]
  },
  {
   "cell_type": "code",
   "execution_count": 7,
   "id": "68021c71",
   "metadata": {},
   "outputs": [],
   "source": [
    "#remove dashes from year\n",
    "df.year = df.year.str[1:]\n",
    "#convert year column to string\n",
    "df['year'] = df['year'].astype('string')\n",
    "#remove parentheses and roman numerals from year column\n",
    "rowstofix = df[df.year.str.endswith(\")\")].index.values\n",
    "for a in rowstofix:\n",
    "    df.year[int(a)-1] = df.year[int(a)-1][-5:-1]\n",
    "#convert year column to int\n",
    "df['year'] = df['year'].astype('int')"
   ]
  },
  {
   "cell_type": "code",
   "execution_count": 8,
   "id": "41f79c83",
   "metadata": {},
   "outputs": [],
   "source": [
    "#change NaNs in certificate column to 'Not Rated'\n",
    "df['certificate'] = df['certificate'].replace(np.nan,'Not Rated')"
   ]
  },
  {
   "cell_type": "code",
   "execution_count": 9,
   "id": "43b4e52a",
   "metadata": {},
   "outputs": [],
   "source": [
    "#remove 'min' from runtime column\n",
    "df.runtime = df.runtime.str[:-4]\n",
    "#convert runtime column to int\n",
    "df['runtime'] = df['runtime'].astype(int)"
   ]
  },
  {
   "cell_type": "code",
   "execution_count": 10,
   "id": "5a17a811",
   "metadata": {},
   "outputs": [],
   "source": [
    "#replace NaNs with zeroes in metascore column\n",
    "df['metascore'] = df['metascore'].replace(np.nan, 0)"
   ]
  },
  {
   "cell_type": "code",
   "execution_count": 11,
   "id": "c6b84d33",
   "metadata": {},
   "outputs": [],
   "source": [
    "#remove commas from votes column\n",
    "df['votes'] = df['votes'].str.replace(\",\",\"\")\n",
    "#convert votes column to int\n",
    "df['votes'] = df['votes'].astype('int')"
   ]
  },
  {
   "cell_type": "code",
   "execution_count": 12,
   "id": "151362a8",
   "metadata": {},
   "outputs": [],
   "source": [
    "#remove $ and M from gross column\n",
    "df['gross'] = df.gross.str[1:-1]\n",
    "#convert gross column to float\n",
    "df['gross'] = df['gross'].astype('float')\n",
    "#change NaNs in gross column to zeroes\n",
    "df['gross'] = df['gross'].replace(np.nan, 0)"
   ]
  },
  {
   "cell_type": "code",
   "execution_count": 13,
   "id": "88db0d42",
   "metadata": {},
   "outputs": [
    {
     "name": "stdout",
     "output_type": "stream",
     "text": [
      "<class 'pandas.core.frame.DataFrame'>\n",
      "Index: 1000 entries, 1 to 1,000.00\n",
      "Data columns (total 15 columns):\n",
      " #   Column       Non-Null Count  Dtype  \n",
      "---  ------       --------------  -----  \n",
      " 0   name         1000 non-null   object \n",
      " 1   year         1000 non-null   int64  \n",
      " 2   certificate  1000 non-null   object \n",
      " 3   runtime      1000 non-null   int64  \n",
      " 4   genre        1000 non-null   object \n",
      " 5   rating       1000 non-null   float64\n",
      " 6   metascore    1000 non-null   float64\n",
      " 7   details      1000 non-null   object \n",
      " 8   director     1000 non-null   object \n",
      " 9   actor 1      1000 non-null   object \n",
      " 10  actor 2      1000 non-null   object \n",
      " 11  actor 3      1000 non-null   object \n",
      " 12  actor 4      1000 non-null   object \n",
      " 13  votes        1000 non-null   int64  \n",
      " 14  gross        1000 non-null   float64\n",
      "dtypes: float64(3), int64(3), object(9)\n",
      "memory usage: 157.3+ KB\n"
     ]
    }
   ],
   "source": [
    "df.info()"
   ]
  },
  {
   "cell_type": "code",
   "execution_count": 14,
   "id": "630d7ec5",
   "metadata": {},
   "outputs": [
    {
     "data": {
      "text/html": [
       "<div>\n",
       "<style scoped>\n",
       "    .dataframe tbody tr th:only-of-type {\n",
       "        vertical-align: middle;\n",
       "    }\n",
       "\n",
       "    .dataframe tbody tr th {\n",
       "        vertical-align: top;\n",
       "    }\n",
       "\n",
       "    .dataframe thead th {\n",
       "        text-align: right;\n",
       "    }\n",
       "</style>\n",
       "<table border=\"1\" class=\"dataframe\">\n",
       "  <thead>\n",
       "    <tr style=\"text-align: right;\">\n",
       "      <th></th>\n",
       "      <th>name</th>\n",
       "      <th>year</th>\n",
       "      <th>certificate</th>\n",
       "      <th>runtime</th>\n",
       "      <th>genre</th>\n",
       "      <th>rating</th>\n",
       "      <th>metascore</th>\n",
       "      <th>details</th>\n",
       "      <th>director</th>\n",
       "      <th>actor 1</th>\n",
       "      <th>actor 2</th>\n",
       "      <th>actor 3</th>\n",
       "      <th>actor 4</th>\n",
       "      <th>votes</th>\n",
       "      <th>gross</th>\n",
       "    </tr>\n",
       "    <tr>\n",
       "      <th>IMDb ranking</th>\n",
       "      <th></th>\n",
       "      <th></th>\n",
       "      <th></th>\n",
       "      <th></th>\n",
       "      <th></th>\n",
       "      <th></th>\n",
       "      <th></th>\n",
       "      <th></th>\n",
       "      <th></th>\n",
       "      <th></th>\n",
       "      <th></th>\n",
       "      <th></th>\n",
       "      <th></th>\n",
       "      <th></th>\n",
       "      <th></th>\n",
       "    </tr>\n",
       "  </thead>\n",
       "  <tbody>\n",
       "    <tr>\n",
       "      <th>1</th>\n",
       "      <td>The Shawshank Redemption</td>\n",
       "      <td>1994</td>\n",
       "      <td>15</td>\n",
       "      <td>142</td>\n",
       "      <td>Drama</td>\n",
       "      <td>9.3</td>\n",
       "      <td>81.0</td>\n",
       "      <td>Two imprisoned men bond over a number of years...</td>\n",
       "      <td>Frank Darabont</td>\n",
       "      <td>Tim Robbins</td>\n",
       "      <td>Morgan Freeman</td>\n",
       "      <td>Bob Gunton</td>\n",
       "      <td>William Sadler</td>\n",
       "      <td>2603314</td>\n",
       "      <td>28.34</td>\n",
       "    </tr>\n",
       "  </tbody>\n",
       "</table>\n",
       "</div>"
      ],
      "text/plain": [
       "                                  name  year certificate  runtime  genre  \\\n",
       "IMDb ranking                                                               \n",
       "1             The Shawshank Redemption  1994          15      142  Drama   \n",
       "\n",
       "              rating  metascore  \\\n",
       "IMDb ranking                      \n",
       "1                9.3       81.0   \n",
       "\n",
       "                                                        details  \\\n",
       "IMDb ranking                                                      \n",
       "1             Two imprisoned men bond over a number of years...   \n",
       "\n",
       "                    director      actor 1         actor 2     actor 3  \\\n",
       "IMDb ranking                                                            \n",
       "1             Frank Darabont  Tim Robbins  Morgan Freeman  Bob Gunton   \n",
       "\n",
       "                     actor 4    votes  gross  \n",
       "IMDb ranking                                  \n",
       "1             William Sadler  2603314  28.34  "
      ]
     },
     "execution_count": 14,
     "metadata": {},
     "output_type": "execute_result"
    }
   ],
   "source": [
    "df.head(1)"
   ]
  },
  {
   "cell_type": "markdown",
   "id": "f5f08f53",
   "metadata": {},
   "source": [
    "## Data Visualization"
   ]
  },
  {
   "cell_type": "code",
   "execution_count": 15,
   "id": "bf346d10",
   "metadata": {},
   "outputs": [
    {
     "data": {
      "image/png": "[encoded data removed]",
      "text/plain": [
       "<Figure size 432x288 with 1 Axes>"
      ]
     },
     "metadata": {
      "needs_background": "light"
     },
     "output_type": "display_data"
    }
   ],
   "source": [
    "df['rating'].value_counts().sort_index().plot(kind='bar', ylabel='Number of Movies', xlabel='Rating', fontsize=13)\n",
    "plt.title(\"Distribution of movies by rating\", pad=15, weight='bold', size=16)\n",
    "plt.show()"
   ]
  },
  {
   "cell_type": "code",
   "execution_count": 16,
   "id": "b6d36abc",
   "metadata": {},
   "outputs": [
    {
     "data": {
      "text/plain": [
       "7.9601999999999995"
      ]
     },
     "execution_count": 16,
     "metadata": {},
     "output_type": "execute_result"
    }
   ],
   "source": [
    "df['rating'].mean()"
   ]
  },
  {
   "cell_type": "markdown",
   "id": "d2f6b0f1",
   "metadata": {},
   "source": [
    "#### We can see that although the #1 movie (The Shawshank Redemption) has a rating of 9.3, this is an abnormally high rating. Most movies from IMDb's Top 1,000 have a rating between 7.6 - 8.1. The overall mean rating is 7.96"
   ]
  },
  {
   "cell_type": "code",
   "execution_count": 17,
   "id": "7e915fb4",
   "metadata": {},
   "outputs": [
    {
     "data": {
      "image/png": "[encoded data removed]",
      "text/plain": [
       "<Figure size 1296x288 with 1 Axes>"
      ]
     },
     "metadata": {
      "needs_background": "light"
     },
     "output_type": "display_data"
    }
   ],
   "source": [
    "df['year'].value_counts().sort_index().plot(kind='bar', figsize=(18,4), fontsize=11)\n",
    "plt.title(\"Distribution of movies by year\", pad=15, weight='bold', size=16)\n",
    "plt.show()"
   ]
  },
  {
   "cell_type": "markdown",
   "id": "79d434dd",
   "metadata": {},
   "source": [
    "#### We can see that most of the movies in IMDb's Top 1,000 are from the 1990s, 2000s, and 2010s"
   ]
  },
  {
   "cell_type": "code",
   "execution_count": 18,
   "id": "33871d6f",
   "metadata": {},
   "outputs": [
    {
     "data": {
      "image/png": "[encoded data removed]",
      "text/plain": [
       "<Figure size 432x288 with 1 Axes>"
      ]
     },
     "metadata": {
      "needs_background": "light"
     },
     "output_type": "display_data"
    }
   ],
   "source": [
    "df['certificate'].value_counts().sort_index().plot(kind='bar', ylabel='Number of Movies')\n",
    "plt.title(\"Distribution of movies by content rating\", pad=15, weight='bold', size=16)\n",
    "plt.show()"
   ]
  },
  {
   "cell_type": "code",
   "execution_count": 19,
   "id": "b0b08067",
   "metadata": {},
   "outputs": [
    {
     "data": {
      "image/png": "[encoded data removed]",
      "text/plain": [
       "<Figure size 432x288 with 1 Axes>"
      ]
     },
     "metadata": {
      "needs_background": "light"
     },
     "output_type": "display_data"
    }
   ],
   "source": [
    "top_5_actors = df['actor 1'].value_counts().head(5)\n",
    "top_5_actors.plot(kind=\"barh\")\n",
    "plt.title(\"5 Most Common Lead Actors\", pad=15, weight='bold', size=16)\n",
    "plt.xlabel(\"Number of Movies\")\n",
    "plt.show()"
   ]
  },
  {
   "cell_type": "code",
   "execution_count": 20,
   "id": "244d0d00",
   "metadata": {},
   "outputs": [
    {
     "data": {
      "image/png": "[encoded data removed]",
      "text/plain": [
       "<Figure size 432x288 with 1 Axes>"
      ]
     },
     "metadata": {
      "needs_background": "light"
     },
     "output_type": "display_data"
    }
   ],
   "source": [
    "top_5_directors = df['director'].value_counts().head(5)\n",
    "top_5_directors.plot(kind=\"barh\")\n",
    "plt.title(\"5 Most Common Directors\", pad=15, weight='bold', size=16)\n",
    "plt.xlabel(\"Number of Movies\")\n",
    "plt.show()"
   ]
  },
  {
   "cell_type": "markdown",
   "id": "b605393d",
   "metadata": {},
   "source": [
    "### Top genre tags"
   ]
  },
  {
   "cell_type": "code",
   "execution_count": 114,
   "id": "4f045dd9",
   "metadata": {},
   "outputs": [
    {
     "data": {
      "text/plain": [
       "Drama                           84\n",
       "Drama, Romance                  37\n",
       "Comedy, Drama                   34\n",
       "Comedy, Drama, Romance          34\n",
       "Action, Crime, Drama            32\n",
       "Crime, Drama                    30\n",
       "Animation, Adventure, Comedy    30\n",
       "Crime, Drama, Mystery           29\n",
       "Crime, Drama, Thriller          26\n",
       "Biography, Drama, History       25\n",
       "Name: genre, dtype: int64"
      ]
     },
     "execution_count": 114,
     "metadata": {},
     "output_type": "execute_result"
    }
   ],
   "source": [
    "df['genre'].value_counts().head(10)"
   ]
  },
  {
   "cell_type": "code",
   "execution_count": 115,
   "id": "34a068fe",
   "metadata": {},
   "outputs": [
    {
     "data": {
      "image/png": "[encoded data removed]",
      "text/plain": [
       "<Figure size 432x288 with 1 Axes>"
      ]
     },
     "metadata": {
      "needs_background": "light"
     },
     "output_type": "display_data"
    }
   ],
   "source": [
    "genres = ['Drama','Romance','Comedy','Action','Crime','Thriller','Animation','Adventure','Mystery','History','Biography']\n",
    "genre_count = pd.DataFrame(index=genres)\n",
    "for a in genres:\n",
    "    genre_count.loc[a,'Count'] = len(df[df['genre'].str.contains(a)])\n",
    "genre_count.sort_values(by=['Count'], ascending=False).plot(kind='bar', legend=None)\n",
    "plt.title(\"Total number of movies tagged as...\", pad=15, weight='bold', size=16)\n",
    "plt.show()"
   ]
  },
  {
   "cell_type": "markdown",
   "id": "1f3abd91",
   "metadata": {},
   "source": [
    "#### We can see that over 70% of IMDb's Top 1,000 movies have the \"Drama\" tag"
   ]
  },
  {
   "cell_type": "markdown",
   "id": "af51d484",
   "metadata": {},
   "source": [
    "### Top 5 Highest Domestic Earnings (in millions)"
   ]
  },
  {
   "cell_type": "code",
   "execution_count": 21,
   "id": "bd56f452",
   "metadata": {},
   "outputs": [
    {
     "data": {
      "text/html": [
       "<div>\n",
       "<style scoped>\n",
       "    .dataframe tbody tr th:only-of-type {\n",
       "        vertical-align: middle;\n",
       "    }\n",
       "\n",
       "    .dataframe tbody tr th {\n",
       "        vertical-align: top;\n",
       "    }\n",
       "\n",
       "    .dataframe thead th {\n",
       "        text-align: right;\n",
       "    }\n",
       "</style>\n",
       "<table border=\"1\" class=\"dataframe\">\n",
       "  <thead>\n",
       "    <tr style=\"text-align: right;\">\n",
       "      <th></th>\n",
       "      <th>name</th>\n",
       "      <th>rating</th>\n",
       "      <th>gross</th>\n",
       "    </tr>\n",
       "    <tr>\n",
       "      <th>IMDb ranking</th>\n",
       "      <th></th>\n",
       "      <th></th>\n",
       "      <th></th>\n",
       "    </tr>\n",
       "  </thead>\n",
       "  <tbody>\n",
       "    <tr>\n",
       "      <th>610</th>\n",
       "      <td>Star Wars: Episode VII - The Force Awakens</td>\n",
       "      <td>7.8</td>\n",
       "      <td>936.66</td>\n",
       "    </tr>\n",
       "    <tr>\n",
       "      <th>66</th>\n",
       "      <td>Avengers: Endgame</td>\n",
       "      <td>8.4</td>\n",
       "      <td>858.37</td>\n",
       "    </tr>\n",
       "    <tr>\n",
       "      <th>100</th>\n",
       "      <td>Spider-Man: No Way Home</td>\n",
       "      <td>8.3</td>\n",
       "      <td>804.75</td>\n",
       "    </tr>\n",
       "    <tr>\n",
       "      <th>644</th>\n",
       "      <td>Avatar</td>\n",
       "      <td>7.8</td>\n",
       "      <td>760.51</td>\n",
       "    </tr>\n",
       "    <tr>\n",
       "      <th>67</th>\n",
       "      <td>Avengers: Infinity War</td>\n",
       "      <td>8.4</td>\n",
       "      <td>678.82</td>\n",
       "    </tr>\n",
       "  </tbody>\n",
       "</table>\n",
       "</div>"
      ],
      "text/plain": [
       "                                                    name  rating   gross\n",
       "IMDb ranking                                                            \n",
       "610           Star Wars: Episode VII - The Force Awakens     7.8  936.66\n",
       "66                                     Avengers: Endgame     8.4  858.37\n",
       "100                              Spider-Man: No Way Home     8.3  804.75\n",
       "644                                               Avatar     7.8  760.51\n",
       "67                                Avengers: Infinity War     8.4  678.82"
      ]
     },
     "execution_count": 21,
     "metadata": {},
     "output_type": "execute_result"
    }
   ],
   "source": [
    "df[[\"name\",\"rating\",\"gross\"]].sort_values(by='gross', ascending=False).head(5)"
   ]
  },
  {
   "cell_type": "code",
   "execution_count": 22,
   "id": "90e3afcd",
   "metadata": {},
   "outputs": [
    {
     "data": {
      "text/plain": [
       "183"
      ]
     },
     "execution_count": 22,
     "metadata": {},
     "output_type": "execute_result"
    }
   ],
   "source": [
    "(df['gross']==0).value_counts()[1]"
   ]
  },
  {
   "cell_type": "markdown",
   "id": "3dafa0d9",
   "metadata": {},
   "source": [
    "#### It is worth noting that there are 183 movies in the list without gross domestic earnings data. If gross earnings was the focus of this project, we could figure out the IMDb ID number for each of these movies and use those ID numbers to obtain earnings data from IMDb affiliate site BoxOfficeMojo."
   ]
  },
  {
   "cell_type": "markdown",
   "id": "1e93c186",
   "metadata": {},
   "source": [
    "### Movie with the longest runtime"
   ]
  },
  {
   "cell_type": "code",
   "execution_count": 23,
   "id": "c6db527f",
   "metadata": {},
   "outputs": [
    {
     "data": {
      "text/html": [
       "<div>\n",
       "<style scoped>\n",
       "    .dataframe tbody tr th:only-of-type {\n",
       "        vertical-align: middle;\n",
       "    }\n",
       "\n",
       "    .dataframe tbody tr th {\n",
       "        vertical-align: top;\n",
       "    }\n",
       "\n",
       "    .dataframe thead th {\n",
       "        text-align: right;\n",
       "    }\n",
       "</style>\n",
       "<table border=\"1\" class=\"dataframe\">\n",
       "  <thead>\n",
       "    <tr style=\"text-align: right;\">\n",
       "      <th></th>\n",
       "      <th>name</th>\n",
       "      <th>year</th>\n",
       "      <th>certificate</th>\n",
       "      <th>runtime</th>\n",
       "      <th>genre</th>\n",
       "      <th>rating</th>\n",
       "      <th>metascore</th>\n",
       "      <th>details</th>\n",
       "      <th>director</th>\n",
       "      <th>actor 1</th>\n",
       "      <th>actor 2</th>\n",
       "      <th>actor 3</th>\n",
       "      <th>actor 4</th>\n",
       "      <th>votes</th>\n",
       "      <th>gross</th>\n",
       "    </tr>\n",
       "    <tr>\n",
       "      <th>IMDb ranking</th>\n",
       "      <th></th>\n",
       "      <th></th>\n",
       "      <th></th>\n",
       "      <th></th>\n",
       "      <th></th>\n",
       "      <th></th>\n",
       "      <th></th>\n",
       "      <th></th>\n",
       "      <th></th>\n",
       "      <th></th>\n",
       "      <th></th>\n",
       "      <th></th>\n",
       "      <th></th>\n",
       "      <th></th>\n",
       "      <th></th>\n",
       "    </tr>\n",
       "  </thead>\n",
       "  <tbody>\n",
       "    <tr>\n",
       "      <th>148</th>\n",
       "      <td>Gangs of Wasseypur</td>\n",
       "      <td>2012</td>\n",
       "      <td>18</td>\n",
       "      <td>321</td>\n",
       "      <td>Action, Comedy, Crime</td>\n",
       "      <td>8.2</td>\n",
       "      <td>89.0</td>\n",
       "      <td>A clash between Sultan and Shahid Khan leads t...</td>\n",
       "      <td>Anurag Kashyap</td>\n",
       "      <td>Manoj Bajpayee</td>\n",
       "      <td>Richa Chadha</td>\n",
       "      <td>Nawazuddin Siddiqui</td>\n",
       "      <td>Tigmanshu Dhulia</td>\n",
       "      <td>94201</td>\n",
       "      <td>0.0</td>\n",
       "    </tr>\n",
       "  </tbody>\n",
       "</table>\n",
       "</div>"
      ],
      "text/plain": [
       "                            name  year certificate  runtime  \\\n",
       "IMDb ranking                                                  \n",
       "148           Gangs of Wasseypur  2012          18      321   \n",
       "\n",
       "                              genre  rating  metascore  \\\n",
       "IMDb ranking                                             \n",
       "148           Action, Comedy, Crime     8.2       89.0   \n",
       "\n",
       "                                                        details  \\\n",
       "IMDb ranking                                                      \n",
       "148           A clash between Sultan and Shahid Khan leads t...   \n",
       "\n",
       "                    director         actor 1       actor 2  \\\n",
       "IMDb ranking                                                 \n",
       "148           Anurag Kashyap  Manoj Bajpayee  Richa Chadha   \n",
       "\n",
       "                          actor 3           actor 4  votes  gross  \n",
       "IMDb ranking                                                       \n",
       "148           Nawazuddin Siddiqui  Tigmanshu Dhulia  94201    0.0  "
      ]
     },
     "execution_count": 23,
     "metadata": {},
     "output_type": "execute_result"
    }
   ],
   "source": [
    "df[df['runtime']==df['runtime'].max()]"
   ]
  },
  {
   "cell_type": "markdown",
   "id": "f88a3430",
   "metadata": {},
   "source": [
    "### Movie with the shortest runtime"
   ]
  },
  {
   "cell_type": "code",
   "execution_count": 24,
   "id": "66a92d34",
   "metadata": {},
   "outputs": [
    {
     "data": {
      "text/html": [
       "<div>\n",
       "<style scoped>\n",
       "    .dataframe tbody tr th:only-of-type {\n",
       "        vertical-align: middle;\n",
       "    }\n",
       "\n",
       "    .dataframe tbody tr th {\n",
       "        vertical-align: top;\n",
       "    }\n",
       "\n",
       "    .dataframe thead th {\n",
       "        text-align: right;\n",
       "    }\n",
       "</style>\n",
       "<table border=\"1\" class=\"dataframe\">\n",
       "  <thead>\n",
       "    <tr style=\"text-align: right;\">\n",
       "      <th></th>\n",
       "      <th>name</th>\n",
       "      <th>year</th>\n",
       "      <th>certificate</th>\n",
       "      <th>runtime</th>\n",
       "      <th>genre</th>\n",
       "      <th>rating</th>\n",
       "      <th>metascore</th>\n",
       "      <th>details</th>\n",
       "      <th>director</th>\n",
       "      <th>actor 1</th>\n",
       "      <th>actor 2</th>\n",
       "      <th>actor 3</th>\n",
       "      <th>actor 4</th>\n",
       "      <th>votes</th>\n",
       "      <th>gross</th>\n",
       "    </tr>\n",
       "    <tr>\n",
       "      <th>IMDb ranking</th>\n",
       "      <th></th>\n",
       "      <th></th>\n",
       "      <th></th>\n",
       "      <th></th>\n",
       "      <th></th>\n",
       "      <th></th>\n",
       "      <th></th>\n",
       "      <th></th>\n",
       "      <th></th>\n",
       "      <th></th>\n",
       "      <th></th>\n",
       "      <th></th>\n",
       "      <th></th>\n",
       "      <th></th>\n",
       "      <th></th>\n",
       "    </tr>\n",
       "  </thead>\n",
       "  <tbody>\n",
       "    <tr>\n",
       "      <th>205</th>\n",
       "      <td>Sherlock Jr.</td>\n",
       "      <td>1924</td>\n",
       "      <td>U</td>\n",
       "      <td>45</td>\n",
       "      <td>Action, Comedy, Romance</td>\n",
       "      <td>8.2</td>\n",
       "      <td>0.0</td>\n",
       "      <td>A film projectionist longs to be a detective, ...</td>\n",
       "      <td>Buster Keaton</td>\n",
       "      <td>Buster Keaton</td>\n",
       "      <td>Kathryn McGuire</td>\n",
       "      <td>Joe Keaton</td>\n",
       "      <td>Erwin Connelly</td>\n",
       "      <td>48922</td>\n",
       "      <td>0.98</td>\n",
       "    </tr>\n",
       "  </tbody>\n",
       "</table>\n",
       "</div>"
      ],
      "text/plain": [
       "                      name  year certificate  runtime  \\\n",
       "IMDb ranking                                            \n",
       "205           Sherlock Jr.  1924           U       45   \n",
       "\n",
       "                                genre  rating  metascore  \\\n",
       "IMDb ranking                                               \n",
       "205           Action, Comedy, Romance     8.2        0.0   \n",
       "\n",
       "                                                        details  \\\n",
       "IMDb ranking                                                      \n",
       "205           A film projectionist longs to be a detective, ...   \n",
       "\n",
       "                   director        actor 1          actor 2     actor 3  \\\n",
       "IMDb ranking                                                              \n",
       "205           Buster Keaton  Buster Keaton  Kathryn McGuire  Joe Keaton   \n",
       "\n",
       "                     actor 4  votes  gross  \n",
       "IMDb ranking                                \n",
       "205           Erwin Connelly  48922   0.98  "
      ]
     },
     "execution_count": 24,
     "metadata": {},
     "output_type": "execute_result"
    }
   ],
   "source": [
    "df[df['runtime']==df['runtime'].min()]"
   ]
  },
  {
   "cell_type": "markdown",
   "id": "97256bd6",
   "metadata": {},
   "source": [
    "### Average runtime"
   ]
  },
  {
   "cell_type": "code",
   "execution_count": 25,
   "id": "0f06ec7e",
   "metadata": {},
   "outputs": [
    {
     "data": {
      "text/plain": [
       "123.637"
      ]
     },
     "execution_count": 25,
     "metadata": {},
     "output_type": "execute_result"
    }
   ],
   "source": [
    "df['runtime'].mean()"
   ]
  }
 ],
 "metadata": {
  "kernelspec": {
   "display_name": "Python 3 (ipykernel)",
   "language": "python",
   "name": "python3"
  },
  "language_info": {
   "codemirror_mode": {
    "name": "ipython",
    "version": 3
   },
   "file_extension": ".py",
   "mimetype": "text/x-python",
   "name": "python",
   "nbconvert_exporter": "python",
   "pygments_lexer": "ipython3",
   "version": "3.10.6"
  }
 },
 "nbformat": 4,
 "nbformat_minor": 5
}
